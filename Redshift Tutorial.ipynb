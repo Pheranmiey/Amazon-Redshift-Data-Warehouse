{
 "cells": [
  {
   "cell_type": "code",
   "execution_count": 1,
   "id": "d4d4191b",
   "metadata": {},
   "outputs": [],
   "source": [
    "# pip install boto3"
   ]
  },
  {
   "cell_type": "markdown",
   "id": "566e1599",
   "metadata": {},
   "source": [
    "# Libraries"
   ]
  },
  {
   "cell_type": "code",
   "execution_count": 2,
   "id": "965cb017",
   "metadata": {},
   "outputs": [],
   "source": [
    "import pandas as pd\n",
    "import psycopg2\n",
    "import json\n",
    "import boto3"
   ]
  },
  {
   "cell_type": "markdown",
   "id": "15fdf893",
   "metadata": {},
   "source": [
    "# Configuration"
   ]
  },
  {
   "cell_type": "code",
   "execution_count": 3,
   "id": "829e5644",
   "metadata": {},
   "outputs": [],
   "source": [
    "import configparser\n",
    "config = configparser.ConfigParser()\n",
    "config.read_file(open(r'C:\\Users\\hp\\Videos\\Projects\\feranmi\\cluster.config'))"
   ]
  },
  {
   "cell_type": "code",
   "execution_count": 4,
   "id": "4632854a",
   "metadata": {},
   "outputs": [
    {
     "data": {
      "text/plain": [
       "('awsuser', 'Ab!123456', 'myfirstdb')"
      ]
     },
     "execution_count": 4,
     "metadata": {},
     "output_type": "execute_result"
    }
   ],
   "source": [
    "KEY = config.get(\"AWS\",\"KEY\")\n",
    "SECRET=config.get(\"AWS\",\"SECRET\")\n",
    "\n",
    "\n",
    "DWH_CLUSTER_TYPE = config.get(\"DWH\",\"DWH_CLUSTER_TYPE\")\n",
    "DWH_NUM_NODES = config.get(\"DWH\",\"DWH_NUM_NODES\")\n",
    "DWH_NODE_TYPE = config.get(\"DWH\",\"DWH_NODE_TYPE\")\n",
    "\n",
    "DWH_CLUSTER_IDENTIFIER = config.get(\"DWH\", \"DWH_CLUSTER_IDENTIFIER\")\n",
    "DWH_DB = config.get(\"DWH\",\"DWH_DB\")\n",
    "DWH_DB_USER = config.get(\"DWH\", \"DWH_DB_USER\")\n",
    "DWH_DB_PASSWORD = config.get(\"DWH\",\"DWH_DB_PASSWORD\")\n",
    "DWH_PORT = config.get(\"DWH\", \"DWH_PORT\")\n",
    "DWH_IAM_ROLE_NAME= config.get(\"DWH\",\"DWH_IAM_ROLE_NAME\")\n",
    "\n",
    "(DWH_DB_USER, DWH_DB_PASSWORD, DWH_DB)"
   ]
  },
  {
   "cell_type": "code",
   "execution_count": 5,
   "id": "206953d0",
   "metadata": {},
   "outputs": [
    {
     "data": {
      "text/html": [
       "<div>\n",
       "<style scoped>\n",
       "    .dataframe tbody tr th:only-of-type {\n",
       "        vertical-align: middle;\n",
       "    }\n",
       "\n",
       "    .dataframe tbody tr th {\n",
       "        vertical-align: top;\n",
       "    }\n",
       "\n",
       "    .dataframe thead th {\n",
       "        text-align: right;\n",
       "    }\n",
       "</style>\n",
       "<table border=\"1\" class=\"dataframe\">\n",
       "  <thead>\n",
       "    <tr style=\"text-align: right;\">\n",
       "      <th></th>\n",
       "      <th>Param</th>\n",
       "      <th>Value</th>\n",
       "    </tr>\n",
       "  </thead>\n",
       "  <tbody>\n",
       "    <tr>\n",
       "      <th>0</th>\n",
       "      <td>DWH_CLUSTER_TYPE</td>\n",
       "      <td>single-node</td>\n",
       "    </tr>\n",
       "    <tr>\n",
       "      <th>1</th>\n",
       "      <td>DWH_NUM_NODES</td>\n",
       "      <td>1</td>\n",
       "    </tr>\n",
       "    <tr>\n",
       "      <th>2</th>\n",
       "      <td>DWH_NODE_TYPE</td>\n",
       "      <td>dc2.large</td>\n",
       "    </tr>\n",
       "    <tr>\n",
       "      <th>3</th>\n",
       "      <td>DWH_CLUSTER_IDENTIFIER</td>\n",
       "      <td>my-first-redshift</td>\n",
       "    </tr>\n",
       "    <tr>\n",
       "      <th>4</th>\n",
       "      <td>DWH_DB</td>\n",
       "      <td>myfirstdb</td>\n",
       "    </tr>\n",
       "    <tr>\n",
       "      <th>5</th>\n",
       "      <td>DWH_DB_USER</td>\n",
       "      <td>awsuser</td>\n",
       "    </tr>\n",
       "    <tr>\n",
       "      <th>6</th>\n",
       "      <td>DWH_DB_PASSWORD</td>\n",
       "      <td>Ab!123456</td>\n",
       "    </tr>\n",
       "    <tr>\n",
       "      <th>7</th>\n",
       "      <td>DWH_PORT</td>\n",
       "      <td>5439</td>\n",
       "    </tr>\n",
       "    <tr>\n",
       "      <th>8</th>\n",
       "      <td>DWH_IAM_ROLE_NAME</td>\n",
       "      <td>s3_fullaccess</td>\n",
       "    </tr>\n",
       "  </tbody>\n",
       "</table>\n",
       "</div>"
      ],
      "text/plain": [
       "                    Param              Value\n",
       "0        DWH_CLUSTER_TYPE        single-node\n",
       "1           DWH_NUM_NODES                  1\n",
       "2           DWH_NODE_TYPE          dc2.large\n",
       "3  DWH_CLUSTER_IDENTIFIER  my-first-redshift\n",
       "4                  DWH_DB          myfirstdb\n",
       "5             DWH_DB_USER            awsuser\n",
       "6         DWH_DB_PASSWORD          Ab!123456\n",
       "7                DWH_PORT               5439\n",
       "8       DWH_IAM_ROLE_NAME      s3_fullaccess"
      ]
     },
     "execution_count": 5,
     "metadata": {},
     "output_type": "execute_result"
    }
   ],
   "source": [
    "data = {\n",
    "    \"Param\": [\n",
    "        \"DWH_CLUSTER_TYPE\", \n",
    "        \"DWH_NUM_NODES\", \n",
    "        \"DWH_NODE_TYPE\", \n",
    "        \"DWH_CLUSTER_IDENTIFIER\", \n",
    "        \"DWH_DB\", \n",
    "        \"DWH_DB_USER\", \n",
    "        \"DWH_DB_PASSWORD\", \n",
    "        \"DWH_PORT\", \n",
    "        \"DWH_IAM_ROLE_NAME\"\n",
    "    ],\n",
    "    \"Value\": [\n",
    "        DWH_CLUSTER_TYPE, \n",
    "        DWH_NUM_NODES, \n",
    "        DWH_NODE_TYPE, \n",
    "        DWH_CLUSTER_IDENTIFIER, \n",
    "        DWH_DB, \n",
    "        DWH_DB_USER, \n",
    "        DWH_DB_PASSWORD, \n",
    "        DWH_PORT, \n",
    "        DWH_IAM_ROLE_NAME\n",
    "    ]\n",
    "}\n",
    "\n",
    "df = pd.DataFrame(data)\n",
    "df\n"
   ]
  },
  {
   "cell_type": "code",
   "execution_count": 6,
   "id": "0a21e25b",
   "metadata": {},
   "outputs": [],
   "source": [
    "ec2 = boto3.resource('ec2',\n",
    "                    region_name = 'eu-north-1',\n",
    "                    aws_access_key_id = KEY, \n",
    "                    aws_secret_access_key = SECRET)\n",
    "\n",
    "s3 = boto3.resource('s3',\n",
    "                    region_name = 'eu-north-1',\n",
    "                    aws_access_key_id = KEY, \n",
    "                    aws_secret_access_key = SECRET)\n",
    "\n",
    "iam = boto3.client('iam',\n",
    "                    region_name = 'eu-north-1',\n",
    "                    aws_access_key_id = KEY, \n",
    "                    aws_secret_access_key = SECRET)\n",
    "\n",
    "redshift = boto3.client('redshift',\n",
    "                    region_name = 'eu-north-1',\n",
    "                    aws_access_key_id = KEY, \n",
    "                    aws_secret_access_key = SECRET)"
   ]
  },
  {
   "cell_type": "code",
   "execution_count": 7,
   "id": "217e66e6",
   "metadata": {},
   "outputs": [
    {
     "data": {
      "text/plain": [
       "[s3.ObjectSummary(bucket_name='grian-enterprise', key='allevents_pipe.txt'),\n",
       " s3.ObjectSummary(bucket_name='grian-enterprise', key='allusers_pipe.txt'),\n",
       " s3.ObjectSummary(bucket_name='grian-enterprise', key='category_pipe.txt'),\n",
       " s3.ObjectSummary(bucket_name='grian-enterprise', key='date2008_pipe.txt'),\n",
       " s3.ObjectSummary(bucket_name='grian-enterprise', key='listings_pipe.txt'),\n",
       " s3.ObjectSummary(bucket_name='grian-enterprise', key='sales_tab.txt'),\n",
       " s3.ObjectSummary(bucket_name='grian-enterprise', key='venue_pipe.txt')]"
      ]
     },
     "execution_count": 7,
     "metadata": {},
     "output_type": "execute_result"
    }
   ],
   "source": [
    "# accessing our files inside s3 bucket\n",
    "bucket = s3.Bucket('grian-enterprise')\n",
    "log_data_files = [filename for filename in bucket.objects.filter(Prefix='')]\n",
    "log_data_files"
   ]
  },
  {
   "cell_type": "code",
   "execution_count": 8,
   "id": "69cee845",
   "metadata": {},
   "outputs": [],
   "source": [
    "roleArn = iam.get_role(RoleName = DWH_IAM_ROLE_NAME)['Role']['Arn']"
   ]
  },
  {
   "cell_type": "code",
   "execution_count": 9,
   "id": "3dd85abf",
   "metadata": {},
   "outputs": [
    {
     "data": {
      "text/plain": [
       "'arn:aws:iam::590184144492:role/S3_fullaccess'"
      ]
     },
     "execution_count": 9,
     "metadata": {},
     "output_type": "execute_result"
    }
   ],
   "source": [
    "roleArn"
   ]
  },
  {
   "cell_type": "code",
   "execution_count": null,
   "id": "48bb5b71",
   "metadata": {},
   "outputs": [],
   "source": []
  },
  {
   "cell_type": "code",
   "execution_count": 10,
   "id": "a75cab76",
   "metadata": {},
   "outputs": [
    {
     "name": "stdout",
     "output_type": "stream",
     "text": [
      "An error occurred (ClusterAlreadyExists) when calling the CreateCluster operation: Cluster already exists\n"
     ]
    }
   ],
   "source": [
    "try:\n",
    "    response = redshift.create_cluster(\n",
    "    ClusterType = DWH_CLUSTER_TYPE,\n",
    "    NodeType=DWH_NODE_TYPE,\n",
    "    \n",
    "    DBName = DWH_DB,\n",
    "    ClusterIdentifier=DWH_CLUSTER_IDENTIFIER,\n",
    "    MasterUsername = DWH_DB_USER,\n",
    "    MasterUserPassword = DWH_DB_PASSWORD,\n",
    "    \n",
    "    IamRoles = [roleArn]\n",
    "        \n",
    "    )\n",
    "    \n",
    "except Exception as e:\n",
    "    print(e)"
   ]
  },
  {
   "cell_type": "code",
   "execution_count": 11,
   "id": "e263f9a5",
   "metadata": {},
   "outputs": [
    {
     "data": {
      "text/plain": [
       "{'Clusters': [{'ClusterIdentifier': 'my-first-redshift',\n",
       "   'NodeType': 'dc2.large',\n",
       "   'ClusterStatus': 'available',\n",
       "   'ClusterAvailabilityStatus': 'Available',\n",
       "   'MasterUsername': 'awsuser',\n",
       "   'DBName': 'myfirstdb',\n",
       "   'Endpoint': {'Address': 'my-first-redshift.cj2bafi24wfg.eu-north-1.redshift.amazonaws.com',\n",
       "    'Port': 5439},\n",
       "   'ClusterCreateTime': datetime.datetime(2024, 8, 28, 16, 22, 22, 316000, tzinfo=tzutc()),\n",
       "   'AutomatedSnapshotRetentionPeriod': 1,\n",
       "   'ManualSnapshotRetentionPeriod': -1,\n",
       "   'ClusterSecurityGroups': [],\n",
       "   'VpcSecurityGroups': [{'VpcSecurityGroupId': 'sg-0b630f23de973212c',\n",
       "     'Status': 'active'}],\n",
       "   'ClusterParameterGroups': [{'ParameterGroupName': 'default.redshift-1.0',\n",
       "     'ParameterApplyStatus': 'in-sync'}],\n",
       "   'ClusterSubnetGroupName': 'default',\n",
       "   'VpcId': 'vpc-079eef7dddf62bfb5',\n",
       "   'AvailabilityZone': 'eu-north-1a',\n",
       "   'PreferredMaintenanceWindow': 'sat:18:30-sat:19:00',\n",
       "   'PendingModifiedValues': {},\n",
       "   'ClusterVersion': '1.0',\n",
       "   'AllowVersionUpgrade': True,\n",
       "   'NumberOfNodes': 1,\n",
       "   'PubliclyAccessible': True,\n",
       "   'Encrypted': False,\n",
       "   'ClusterPublicKey': 'ssh-rsa AAAAB3NzaC1yc2EAAAADAQABAAABAQCzcSsYFMy1Byj3Fx1FGhknM0KZf6V/AEyf3tGTs5N+jww1J86VZvvSgUFlSAQnyXZDKj9cAnsjDdI0vD6TwHr0IcKn1uyQVergRDxphTh3iqs7pjFu1Ef1j2evjhEbbM98gLKGeR08Kna9LZVk5X6YtP7eLgq8HioDhuY9rwSJeI1fOkJsrPX9RIpkes8LA+B1I/oxvvw/MGTv/H7cTLWL3Zb/bfgrT9e2cK1+Pugs7yubjtN5OmnOER5mAIIo+65oKxbqtZoG0M3B5/uutonahiQtJ6yBxYOq0usWzhJYb3AY5FlF2e/AoulPUV3yufzHNuqeRyOn1nm/RLKvdlEZ Amazon-Redshift\\n',\n",
       "   'ClusterNodes': [{'NodeRole': 'SHARED',\n",
       "     'PrivateIPAddress': '172.31.30.47',\n",
       "     'PublicIPAddress': '13.48.223.85'}],\n",
       "   'ClusterRevisionNumber': '73348',\n",
       "   'Tags': [],\n",
       "   'EnhancedVpcRouting': False,\n",
       "   'IamRoles': [{'IamRoleArn': 'arn:aws:iam::590184144492:role/S3_fullaccess',\n",
       "     'ApplyStatus': 'in-sync'}],\n",
       "   'MaintenanceTrackName': 'current',\n",
       "   'DeferredMaintenanceWindows': [],\n",
       "   'NextMaintenanceWindowStartTime': datetime.datetime(2024, 8, 31, 18, 30, tzinfo=tzutc()),\n",
       "   'AvailabilityZoneRelocationStatus': 'disabled',\n",
       "   'ClusterNamespaceArn': 'arn:aws:redshift:eu-north-1:590184144492:namespace:aedf67c8-5215-4cbc-bc81-a7fb43d3f5e6',\n",
       "   'TotalStorageCapacityInMegaBytes': 400000,\n",
       "   'AquaConfiguration': {'AquaStatus': 'disabled',\n",
       "    'AquaConfigurationStatus': 'auto'}}],\n",
       " 'ResponseMetadata': {'RequestId': 'ff0e05bd-d4e8-4d8b-a022-c739a71f94a1',\n",
       "  'HTTPStatusCode': 200,\n",
       "  'HTTPHeaders': {'x-amzn-requestid': 'ff0e05bd-d4e8-4d8b-a022-c739a71f94a1',\n",
       "   'content-type': 'text/xml',\n",
       "   'content-length': '4094',\n",
       "   'date': 'Thu, 29 Aug 2024 23:11:53 GMT'},\n",
       "  'RetryAttempts': 0}}"
      ]
     },
     "execution_count": 11,
     "metadata": {},
     "output_type": "execute_result"
    }
   ],
   "source": [
    "redshift.describe_clusters(ClusterIdentifier=DWH_CLUSTER_IDENTIFIER)"
   ]
  },
  {
   "cell_type": "code",
   "execution_count": 12,
   "id": "4b3f3754",
   "metadata": {},
   "outputs": [
    {
     "name": "stderr",
     "output_type": "stream",
     "text": [
      "C:\\Users\\hp\\AppData\\Local\\Temp\\ipykernel_13216\\3032762446.py:2: FutureWarning: Passing a negative integer is deprecated in version 1.0 and will not be supported in future version. Instead, use None to not limit the column width.\n",
      "  pd.set_option('display.max_colwidth', -1)\n"
     ]
    },
    {
     "data": {
      "text/html": [
       "<div>\n",
       "<style scoped>\n",
       "    .dataframe tbody tr th:only-of-type {\n",
       "        vertical-align: middle;\n",
       "    }\n",
       "\n",
       "    .dataframe tbody tr th {\n",
       "        vertical-align: top;\n",
       "    }\n",
       "\n",
       "    .dataframe thead th {\n",
       "        text-align: right;\n",
       "    }\n",
       "</style>\n",
       "<table border=\"1\" class=\"dataframe\">\n",
       "  <thead>\n",
       "    <tr style=\"text-align: right;\">\n",
       "      <th></th>\n",
       "      <th>key</th>\n",
       "      <th>value</th>\n",
       "    </tr>\n",
       "  </thead>\n",
       "  <tbody>\n",
       "    <tr>\n",
       "      <th>0</th>\n",
       "      <td>ClusterIdentifier</td>\n",
       "      <td>my-first-redshift</td>\n",
       "    </tr>\n",
       "    <tr>\n",
       "      <th>1</th>\n",
       "      <td>NodeType</td>\n",
       "      <td>dc2.large</td>\n",
       "    </tr>\n",
       "    <tr>\n",
       "      <th>2</th>\n",
       "      <td>ClusterStatus</td>\n",
       "      <td>available</td>\n",
       "    </tr>\n",
       "    <tr>\n",
       "      <th>3</th>\n",
       "      <td>MasterUsername</td>\n",
       "      <td>awsuser</td>\n",
       "    </tr>\n",
       "    <tr>\n",
       "      <th>4</th>\n",
       "      <td>DBName</td>\n",
       "      <td>myfirstdb</td>\n",
       "    </tr>\n",
       "    <tr>\n",
       "      <th>5</th>\n",
       "      <td>Endpoint</td>\n",
       "      <td>{'Address': 'my-first-redshift.cj2bafi24wfg.eu-north-1.redshift.amazonaws.com', 'Port': 5439}</td>\n",
       "    </tr>\n",
       "    <tr>\n",
       "      <th>6</th>\n",
       "      <td>VpcId</td>\n",
       "      <td>vpc-079eef7dddf62bfb5</td>\n",
       "    </tr>\n",
       "  </tbody>\n",
       "</table>\n",
       "</div>"
      ],
      "text/plain": [
       "                 key  \\\n",
       "0  ClusterIdentifier   \n",
       "1  NodeType            \n",
       "2  ClusterStatus       \n",
       "3  MasterUsername      \n",
       "4  DBName              \n",
       "5  Endpoint            \n",
       "6  VpcId               \n",
       "\n",
       "                                                                                           value  \n",
       "0  my-first-redshift                                                                              \n",
       "1  dc2.large                                                                                      \n",
       "2  available                                                                                      \n",
       "3  awsuser                                                                                        \n",
       "4  myfirstdb                                                                                      \n",
       "5  {'Address': 'my-first-redshift.cj2bafi24wfg.eu-north-1.redshift.amazonaws.com', 'Port': 5439}  \n",
       "6  vpc-079eef7dddf62bfb5                                                                          "
      ]
     },
     "execution_count": 12,
     "metadata": {},
     "output_type": "execute_result"
    }
   ],
   "source": [
    "def prettyRedshiftProps(props):\n",
    "    pd.set_option('display.max_colwidth', -1)\n",
    "    keysToShow =[\"ClusterIdentifier\", \"NodeType\",\"ClusterStatus\",\"MasterUsername\",\"DBName\",\"Endpoint\",\"VpcId\"]\n",
    "    x = [(k,v) for k,v in props.items() if k in keysToShow]\n",
    "    return pd.DataFrame(data = x, columns=[\"key\",\"value\"])\n",
    "\n",
    "myClusterProps = redshift.describe_clusters(ClusterIdentifier = DWH_CLUSTER_IDENTIFIER)['Clusters'][0]\n",
    "prettyRedshiftProps(myClusterProps)"
   ]
  },
  {
   "cell_type": "code",
   "execution_count": 13,
   "id": "47fcaa66",
   "metadata": {},
   "outputs": [],
   "source": [
    "DWH_ENDPOINT =myClusterProps['Endpoint']['Address']\n",
    "DWH_ROLE_ARN = myClusterProps['IamRoles'][0]['IamRoleArn']\n",
    "DB_NAME = myClusterProps['DBName']\n",
    "DB_USER = myClusterProps['MasterUsername']"
   ]
  },
  {
   "cell_type": "markdown",
   "id": "01e111a0",
   "metadata": {},
   "source": [
    "# configuring Amazon VPC"
   ]
  },
  {
   "cell_type": "code",
   "execution_count": 14,
   "id": "810fe715",
   "metadata": {},
   "outputs": [
    {
     "name": "stdout",
     "output_type": "stream",
     "text": [
      "An error occurred (InvalidPermission.Duplicate) when calling the AuthorizeSecurityGroupIngress operation: the specified rule \"peer: 0.0.0.0/0, TCP, from port: 5439, to port: 5439, ALLOW\" already exists\n"
     ]
    }
   ],
   "source": [
    "try:\n",
    "    vpc = ec2.Vpc(id = myClusterProps['VpcId'])\n",
    "    defaultSg = list(vpc.security_groups.all())[0]\n",
    "    \n",
    "    defaultSg.authorize_ingress(\n",
    "    GroupName=defaultSg.group_name,\n",
    "    CidrIp ='0.0.0.0/0',\n",
    "    IpProtocol = 'TCP',\n",
    "    FromPort = int(DWH_PORT),\n",
    "    ToPort = int(DWH_PORT)\n",
    "    )\n",
    "    \n",
    "except Exception as e:\n",
    "    print(e)"
   ]
  },
  {
   "cell_type": "markdown",
   "id": "cc61dc37",
   "metadata": {},
   "source": [
    "# Connecting to Postgres and creating our tables"
   ]
  },
  {
   "cell_type": "code",
   "execution_count": 15,
   "id": "5ddcc8ba",
   "metadata": {},
   "outputs": [],
   "source": [
    "try:\n",
    "    conn = psycopg2.connect(host = DWH_ENDPOINT, dbname =DB_NAME,user = DB_USER, password = \"Ab!123456\",port = 5439)\n",
    "except psycopg2.Error as e:\n",
    "    print(\"Error: could not make connection to the Postgres Database\")\n",
    "    print(e)\n",
    "    \n",
    "conn.set_session(autocommit=True)"
   ]
  },
  {
   "cell_type": "code",
   "execution_count": 16,
   "id": "f9de1ee9",
   "metadata": {},
   "outputs": [],
   "source": [
    "try:\n",
    "    cur = conn.cursor()\n",
    "except Exception as e:\n",
    "    print('Error: could not get cursor')\n",
    "    print(e)"
   ]
  },
  {
   "cell_type": "code",
   "execution_count": 17,
   "id": "9b06608b",
   "metadata": {},
   "outputs": [
    {
     "name": "stdout",
     "output_type": "stream",
     "text": [
      "Error: Issue creating table\n",
      "Relation \"users\" already exists\n",
      "\n"
     ]
    }
   ],
   "source": [
    "try:\n",
    "    cur.execute(\"\"\"create table users(\n",
    "        userid integer not null distkey sortkey,\n",
    "        username char(8),\n",
    "        firstname varchar(30),\n",
    "        lastname varchar(30),\n",
    "        city varchar(30),\n",
    "        state char(2),\n",
    "        email varchar(100),\n",
    "        phone char(14),\n",
    "        likesports boolean,\n",
    "        liketheatre boolean,\n",
    "        likeconcerts boolean,\n",
    "        likejazz boolean,\n",
    "        likeclassical boolean,\n",
    "        likeopera boolean,\n",
    "        likerock boolean,\n",
    "        likevegas boolean,\n",
    "        likebroadway boolean,\n",
    "        likemusicals boolean);\"\"\")\n",
    "    \n",
    "except psycopg2.Error as e:\n",
    "    print('Error: Issue creating table')\n",
    "    print(e)\n"
   ]
  },
  {
   "cell_type": "code",
   "execution_count": 18,
   "id": "823f1178",
   "metadata": {},
   "outputs": [
    {
     "name": "stdout",
     "output_type": "stream",
     "text": [
      "Relation \"venue\" already exists\n",
      "\n"
     ]
    }
   ],
   "source": [
    "try:\n",
    "    cur.execute(\"\"\"create table venue(\n",
    "    venueid smallint not null distkey sortkey,\n",
    "    venuename varchar(100),\n",
    "    venuecity varchar(30),\n",
    "    venuestate char(2),\n",
    "    venueseats integer);\n",
    "    \"\"\")\n",
    "    \n",
    "except psycopg2.Error as e:\n",
    "    print(e)"
   ]
  },
  {
   "cell_type": "code",
   "execution_count": 19,
   "id": "f23ae8f5",
   "metadata": {},
   "outputs": [],
   "source": [
    "try:\n",
    "    cur.execute(\"\"\"create table category(\n",
    "        catid smallint not null distkey sortkey,\n",
    "        catgroup varchar(10),\n",
    "        catname varchar(10),\n",
    "        catdesc varchar(50));\n",
    "        \n",
    "    create table date(\n",
    "        dateid smallint not null distkey sortkey,\n",
    "        caldate date not null,\n",
    "        day character(3) not null,\n",
    "        week smallint not null,\n",
    "        month character(5) not null,\n",
    "        qtr character(5) not null,\n",
    "        year smallint not null,\n",
    "        holiday boolean default('N'));\n",
    "        \n",
    "    create table event(\n",
    "        eventid integer not null distkey,\n",
    "        venueid smallint not null,\n",
    "        catid smallint not null,\n",
    "        dateid smallint not null sortkey,\n",
    "        eventname varchar(200),\n",
    "        starttime timestamp);\n",
    "        \n",
    "    create table listing(\n",
    "        listid integer not null distkey,\n",
    "        sellerid integer not null,\n",
    "        eventid integer not null,\n",
    "        dateid smallint not null sortkey,\n",
    "        numtickets smallint not null,\n",
    "        priceperticket decimal(8,2),\n",
    "        totalprice decimal(8,2),\n",
    "        listtime timestamp);\"\"\")\n",
    "        \n",
    "except psycopg2.Error as e:\n",
    "    print(\"Error: Issue creating table\")\n",
    "    print(e)\n"
   ]
  },
  {
   "cell_type": "markdown",
   "id": "19f436e3",
   "metadata": {},
   "source": [
    "# populating our tables with files in s3 bucket"
   ]
  },
  {
   "cell_type": "code",
   "execution_count": 21,
   "id": "07b485f9",
   "metadata": {},
   "outputs": [],
   "source": [
    "try:\n",
    "    cur.execute(\"\"\"\n",
    "    copy users from 's3://grian-enterprise/allusers_pipe.txt'\n",
    "    \n",
    "    credentials 'aws_iam_role=arn:aws:iam::590184144492:role/S3_fullaccess'\n",
    "    delimiter '|'\n",
    "    region 'eu-north-1'\n",
    "    \"\"\")\n",
    "    \n",
    "    \n",
    "except psycopg2.Error as e:\n",
    "    print(\"error: Issue creating table\")\n",
    "    print(e)"
   ]
  },
  {
   "cell_type": "code",
   "execution_count": 25,
   "id": "ead6b225",
   "metadata": {},
   "outputs": [],
   "source": [
    "try:\n",
    "    cur.execute(\"\"\"\n",
    "    copy event from 's3://grian-enterprise/allevents_pipe.txt'\n",
    "    \n",
    "    credentials 'aws_iam_role=arn:aws:iam::590184144492:role/S3_fullaccess'\n",
    "    delimiter '|'\n",
    "    region 'eu-north-1'\n",
    "    \"\"\")\n",
    "    \n",
    "    \n",
    "except psycopg2.Error as e:\n",
    "    print(\"error: Issue creating table\")\n",
    "    print(e)"
   ]
  },
  {
   "cell_type": "code",
   "execution_count": 26,
   "id": "2d42bf77",
   "metadata": {},
   "outputs": [],
   "source": [
    "try:\n",
    "    cur.execute(\"\"\"\n",
    "    copy venue from 's3://grian-enterprise/venue_pipe.txt'\n",
    "    \n",
    "    credentials 'aws_iam_role=arn:aws:iam::590184144492:role/S3_fullaccess'\n",
    "    delimiter '|'\n",
    "    region 'eu-north-1'\n",
    "    \"\"\")\n",
    "    \n",
    "    \n",
    "except psycopg2.Error as e:\n",
    "    print(\"error: Issue creating table\")\n",
    "    print(e)"
   ]
  },
  {
   "cell_type": "code",
   "execution_count": 27,
   "id": "0a42b4e0",
   "metadata": {},
   "outputs": [],
   "source": [
    "try:\n",
    "    cur.execute(\"\"\"\n",
    "    copy listing from 's3://grian-enterprise/listings_pipe.txt'\n",
    "    \n",
    "    credentials 'aws_iam_role=arn:aws:iam::590184144492:role/S3_fullaccess'\n",
    "    delimiter '|'\n",
    "    region 'eu-north-1'\n",
    "    \"\"\")\n",
    "    \n",
    "    \n",
    "except psycopg2.Error as e:\n",
    "    print(\"error: Issue creating table\")\n",
    "    print(e)"
   ]
  },
  {
   "cell_type": "code",
   "execution_count": 22,
   "id": "1fcede22",
   "metadata": {},
   "outputs": [],
   "source": [
    "try:\n",
    "    cur.execute(\"\"\"\n",
    "    select * from users;\n",
    "    \"\"\")\n",
    "    \n",
    "except psycopg2.Error as e:\n",
    "    print(\"error: Issue creating table\")\n",
    "    print(e)"
   ]
  },
  {
   "cell_type": "code",
   "execution_count": 23,
   "id": "a41a4cb0",
   "metadata": {},
   "outputs": [
    {
     "name": "stdout",
     "output_type": "stream",
     "text": [
      "(1, 'JSG99FHE', 'Rafael', 'Taylor', 'Kent', 'WA', 'Etiam.laoreet.libero@sodalesMaurisblandit.edu', '(664) 602-4412', True, True, None, False, True, None, None, True, False, True)\n"
     ]
    }
   ],
   "source": [
    "row = cur.fetchone()\n",
    "while row:\n",
    "    print(row)\n",
    "    row = cur.fetchone()\n",
    "    break"
   ]
  },
  {
   "cell_type": "code",
   "execution_count": null,
   "id": "8d3ccced",
   "metadata": {},
   "outputs": [],
   "source": []
  },
  {
   "cell_type": "markdown",
   "id": "99d1d1d6",
   "metadata": {},
   "source": [
    "# Close connection"
   ]
  },
  {
   "cell_type": "code",
   "execution_count": 28,
   "id": "6d04b16b",
   "metadata": {},
   "outputs": [],
   "source": [
    "try:\n",
    "    conn.close()\n",
    "    \n",
    "except psycopg2.Error as e:\n",
    "    print(e)"
   ]
  },
  {
   "cell_type": "code",
   "execution_count": 30,
   "id": "a95c7623",
   "metadata": {},
   "outputs": [
    {
     "data": {
      "text/plain": [
       "{'Cluster': {'ClusterIdentifier': 'my-first-redshift',\n",
       "  'NodeType': 'dc2.large',\n",
       "  'ClusterStatus': 'deleting',\n",
       "  'ClusterAvailabilityStatus': 'Modifying',\n",
       "  'MasterUsername': 'awsuser',\n",
       "  'DBName': 'myfirstdb',\n",
       "  'Endpoint': {'Address': 'my-first-redshift.cj2bafi24wfg.eu-north-1.redshift.amazonaws.com',\n",
       "   'Port': 5439},\n",
       "  'ClusterCreateTime': datetime.datetime(2024, 8, 28, 16, 22, 22, 316000, tzinfo=tzutc()),\n",
       "  'AutomatedSnapshotRetentionPeriod': 1,\n",
       "  'ManualSnapshotRetentionPeriod': -1,\n",
       "  'ClusterSecurityGroups': [],\n",
       "  'VpcSecurityGroups': [{'VpcSecurityGroupId': 'sg-0b630f23de973212c',\n",
       "    'Status': 'active'}],\n",
       "  'ClusterParameterGroups': [{'ParameterGroupName': 'default.redshift-1.0',\n",
       "    'ParameterApplyStatus': 'in-sync'}],\n",
       "  'ClusterSubnetGroupName': 'default',\n",
       "  'VpcId': 'vpc-079eef7dddf62bfb5',\n",
       "  'AvailabilityZone': 'eu-north-1a',\n",
       "  'PreferredMaintenanceWindow': 'sat:18:30-sat:19:00',\n",
       "  'PendingModifiedValues': {},\n",
       "  'ClusterVersion': '1.0',\n",
       "  'AllowVersionUpgrade': True,\n",
       "  'NumberOfNodes': 1,\n",
       "  'PubliclyAccessible': True,\n",
       "  'Encrypted': False,\n",
       "  'Tags': [],\n",
       "  'EnhancedVpcRouting': False,\n",
       "  'IamRoles': [{'IamRoleArn': 'arn:aws:iam::590184144492:role/S3_fullaccess',\n",
       "    'ApplyStatus': 'in-sync'}],\n",
       "  'MaintenanceTrackName': 'current',\n",
       "  'DeferredMaintenanceWindows': [],\n",
       "  'NextMaintenanceWindowStartTime': datetime.datetime(2024, 8, 31, 18, 30, tzinfo=tzutc()),\n",
       "  'ClusterNamespaceArn': 'arn:aws:redshift:eu-north-1:590184144492:namespace:aedf67c8-5215-4cbc-bc81-a7fb43d3f5e6',\n",
       "  'TotalStorageCapacityInMegaBytes': 400000,\n",
       "  'AquaConfiguration': {'AquaStatus': 'disabled',\n",
       "   'AquaConfigurationStatus': 'auto'}},\n",
       " 'ResponseMetadata': {'RequestId': '975b057e-fb2b-457c-8c61-f1a6b2834231',\n",
       "  'HTTPStatusCode': 200,\n",
       "  'HTTPHeaders': {'x-amzn-requestid': '975b057e-fb2b-457c-8c61-f1a6b2834231',\n",
       "   'content-type': 'text/xml',\n",
       "   'content-length': '2952',\n",
       "   'date': 'Fri, 30 Aug 2024 00:41:59 GMT'},\n",
       "  'RetryAttempts': 0}}"
      ]
     },
     "execution_count": 30,
     "metadata": {},
     "output_type": "execute_result"
    }
   ],
   "source": [
    "redshift.delete_cluster(ClusterIdentifier = DWH_CLUSTER_IDENTIFIER, SkipFinalClusterSnapshot= True)"
   ]
  }
 ],
 "metadata": {
  "kernelspec": {
   "display_name": "Python 3 (ipykernel)",
   "language": "python",
   "name": "python3"
  },
  "language_info": {
   "codemirror_mode": {
    "name": "ipython",
    "version": 3
   },
   "file_extension": ".py",
   "mimetype": "text/x-python",
   "name": "python",
   "nbconvert_exporter": "python",
   "pygments_lexer": "ipython3",
   "version": "3.9.13"
  }
 },
 "nbformat": 4,
 "nbformat_minor": 5
}
